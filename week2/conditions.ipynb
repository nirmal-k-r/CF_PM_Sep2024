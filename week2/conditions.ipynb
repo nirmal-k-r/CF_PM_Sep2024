{
 "cells": [
  {
   "cell_type": "code",
   "execution_count": 1,
   "metadata": {},
   "outputs": [
    {
     "name": "stdout",
     "output_type": "stream",
     "text": [
      "switch off the AC\n",
      "done\n"
     ]
    }
   ],
   "source": [
    "temp=30\n",
    "\n",
    "if temp>30:\n",
    "    print(\"switch on the AC\")\n",
    "    print(\"done\")\n",
    "else:\n",
    "    print(\"switch off the AC\")\n",
    "    print(\"done\")\n"
   ]
  },
  {
   "cell_type": "code",
   "execution_count": 3,
   "metadata": {},
   "outputs": [],
   "source": [
    "married=False\n",
    "if married == True:\n",
    "    print(\"you are married\")\n"
   ]
  },
  {
   "cell_type": "code",
   "execution_count": 6,
   "metadata": {},
   "outputs": [
    {
     "name": "stdout",
     "output_type": "stream",
     "text": [
      "you have 10% discount\n"
     ]
    }
   ],
   "source": [
    "total=20000\n",
    "\n",
    "if total<=5000:\n",
    "    print(\"you have 1% discount\")\n",
    "\n",
    "elif total <10000:\n",
    "    print(\"you have 5% discount\")\n",
    "\n",
    "else:\n",
    "    print(\"you have 10% discount\")"
   ]
  },
  {
   "cell_type": "code",
   "execution_count": 8,
   "metadata": {},
   "outputs": [
    {
     "name": "stdout",
     "output_type": "stream",
     "text": [
      "welcome bob\n",
      "tius is code block fo bob\n",
      "done\n"
     ]
    }
   ],
   "source": [
    "name=\"bob\"\n",
    "\n",
    "if name==\"bob\":\n",
    "    print(\"welcome bob\")  \n",
    "    print('tius is code block fo bob') \n",
    "    \n",
    "elif name==\"alice\":\n",
    "    print(\"welcome alice\")\n",
    "else:\n",
    "    print('youa re niot bob or alice')\n",
    "\n",
    "print('done')"
   ]
  },
  {
   "cell_type": "code",
   "execution_count": 8,
   "metadata": {},
   "outputs": [
    {
     "name": "stdout",
     "output_type": "stream",
     "text": [
      "turn off ac\n"
     ]
    }
   ],
   "source": [
    "temp=40\n",
    "humidity=10\n",
    "\n",
    "if (temp>=30 and humidity>50):\n",
    "    print('turn on ac')\n",
    "else:\n",
    "    print('turn off ac')"
   ]
  },
  {
   "cell_type": "code",
   "execution_count": 11,
   "metadata": {},
   "outputs": [
    {
     "name": "stdout",
     "output_type": "stream",
     "text": [
      "turn on ac\n"
     ]
    }
   ],
   "source": [
    "temp=40\n",
    "humidity=10\n",
    "sunny=True\n",
    "\n",
    "if (temp>=30 or humidity>50) and sunny:\n",
    "    print('turn on ac')\n",
    "else:\n",
    "    print('turn off ac')"
   ]
  },
  {
   "cell_type": "code",
   "execution_count": null,
   "metadata": {},
   "outputs": [],
   "source": [
    "# #True 1\n",
    "# #false 0\n",
    "\n",
    "# 1 and 0\n",
    "\n",
    "# 1 or 0"
   ]
  },
  {
   "cell_type": "code",
   "execution_count": 13,
   "metadata": {},
   "outputs": [
    {
     "name": "stdout",
     "output_type": "stream",
     "text": [
      "invalid user\n"
     ]
    }
   ],
   "source": [
    "username=\"admin\"\n",
    "password='12345'\n",
    "\n",
    "if (username=='admin' and password=='12345'):\n",
    "    print('valid user')\n",
    "else:\n",
    "    print('invalid user')\n",
    "\n"
   ]
  },
  {
   "cell_type": "code",
   "execution_count": 16,
   "metadata": {},
   "outputs": [
    {
     "name": "stdout",
     "output_type": "stream",
     "text": [
      "you are not an adult\n"
     ]
    }
   ],
   "source": [
    "adult=False\n",
    "\n",
    "if adult!=True:\n",
    "    print('you are not an adult')"
   ]
  }
 ],
 "metadata": {
  "kernelspec": {
   "display_name": "Python 3",
   "language": "python",
   "name": "python3"
  },
  "language_info": {
   "codemirror_mode": {
    "name": "ipython",
    "version": 3
   },
   "file_extension": ".py",
   "mimetype": "text/x-python",
   "name": "python",
   "nbconvert_exporter": "python",
   "pygments_lexer": "ipython3",
   "version": "3.10.2"
  }
 },
 "nbformat": 4,
 "nbformat_minor": 2
}
