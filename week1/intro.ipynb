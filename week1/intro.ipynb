{
 "cells": [
  {
   "cell_type": "code",
   "execution_count": 24,
   "metadata": {},
   "outputs": [
    {
     "name": "stdout",
     "output_type": "stream",
     "text": [
      "hello\n",
      "world\n",
      "34\n"
     ]
    }
   ],
   "source": [
    "#this is a comment\n",
    "print('hello')  #this is the first\n",
    "print('world')\n",
    "\n",
    "# print('test')\n",
    "\n",
    "print(34)\n",
    "\n"
   ]
  },
  {
   "cell_type": "code",
   "execution_count": 36,
   "metadata": {},
   "outputs": [
    {
     "name": "stdout",
     "output_type": "stream",
     "text": [
      "hello world\n",
      "paul\n"
     ]
    }
   ],
   "source": [
    "#io\n",
    "print('hello world') #display some text on the screen\n",
    "\n",
    "name = input('Enter your name: ') #get some text from the user\n",
    "\n",
    "print(name)"
   ]
  },
  {
   "cell_type": "code",
   "execution_count": null,
   "metadata": {},
   "outputs": [],
   "source": [
    "#simple data types\n",
    "#number (int, float)\n",
    "    #int: 1 10 -1000  999 \n",
    "    #float: 10.5 1.0 -4.5003\n",
    "#string\n",
    "    # '', \"\", \"a\", \"tom\", \"today is saturday\", \"test @@££54\\dhuw@$%^&\", \"12\"\n",
    "\n",
    "#boolean\n",
    "    #True False\n",
    "    #1    0"
   ]
  },
  {
   "cell_type": "code",
   "execution_count": null,
   "metadata": {},
   "outputs": [],
   "source": [
    "#declare and initialise a variable\n",
    "\n",
    "#2umber=10 #cannot start a variable name with a number\n",
    "# num∞ber=10 #cannot use special characters in a variable name\n",
    "num_ber=10 #can use underscore in a variable name\n",
    "\n",
    "number2=10\n",
    "num2ber=10\n",
    "\n",
    "Number=10 #dont start with an uppercase letter\n",
    "\n",
    "number_2=72.5\n",
    "\n",
    "temp=10\n",
    "humidity=16\n",
    "\n",
    "first_name='Tom'\n",
    "firstName='Tom'"
   ]
  },
  {
   "cell_type": "code",
   "execution_count": 1,
   "metadata": {},
   "outputs": [
    {
     "name": "stdout",
     "output_type": "stream",
     "text": [
      "eric\n",
      "34\n",
      "False\n"
     ]
    }
   ],
   "source": [
    "name=\"eric\"\n",
    "\n",
    "print(name)\n",
    "\n",
    "\n",
    "age=34\n",
    "print(age)\n",
    "\n",
    "married=False #True\n",
    "print(married)"
   ]
  },
  {
   "cell_type": "code",
   "execution_count": 30,
   "metadata": {},
   "outputs": [
    {
     "name": "stdout",
     "output_type": "stream",
     "text": [
      "Tom is 34 years old\n"
     ]
    }
   ],
   "source": [
    "name='Tom'\n",
    "age=34\n",
    "\n",
    "print(name,\"is\",age,\"years old\")"
   ]
  },
  {
   "cell_type": "code",
   "execution_count": 31,
   "metadata": {},
   "outputs": [
    {
     "name": "stdout",
     "output_type": "stream",
     "text": [
      "Name: Tom\n",
      "Age: 34\n"
     ]
    }
   ],
   "source": [
    "print(\"Name:\",name)\n",
    "print(\"Age:\",age)"
   ]
  },
  {
   "cell_type": "code",
   "execution_count": 35,
   "metadata": {},
   "outputs": [
    {
     "name": "stdout",
     "output_type": "stream",
     "text": [
      "Name: Tom \n",
      "'Age': 34\n"
     ]
    }
   ],
   "source": [
    "print(\"Name:\",name,\"\\nAge:\",age)\n",
    "\n",
    "#\\n is newline \\t is tab\n"
   ]
  },
  {
   "cell_type": "code",
   "execution_count": 37,
   "metadata": {},
   "outputs": [
    {
     "data": {
      "text/plain": [
       "str"
      ]
     },
     "execution_count": 37,
     "metadata": {},
     "output_type": "execute_result"
    }
   ],
   "source": [
    "type(name)"
   ]
  },
  {
   "cell_type": "code",
   "execution_count": 38,
   "metadata": {},
   "outputs": [
    {
     "data": {
      "text/plain": [
       "int"
      ]
     },
     "execution_count": 38,
     "metadata": {},
     "output_type": "execute_result"
    }
   ],
   "source": [
    "type(age)"
   ]
  },
  {
   "cell_type": "code",
   "execution_count": 40,
   "metadata": {},
   "outputs": [
    {
     "name": "stdout",
     "output_type": "stream",
     "text": [
      "My name is Tom and I am 34 years old\n",
      "My name is Tom and I am 34 years old\n"
     ]
    }
   ],
   "source": [
    "name='Tom'\n",
    "age=34\n",
    "\n",
    "#string formatting\n",
    "print(\"My name is {} and I am {} years old\".format(name,age))\n",
    "\n",
    "#string interpolation\n",
    "print(f\"My name is {name} and I am {age} years old\")"
   ]
  },
  {
   "cell_type": "code",
   "execution_count": 43,
   "metadata": {},
   "outputs": [
    {
     "name": "stdout",
     "output_type": "stream",
     "text": [
      "15\n",
      "5\n",
      "50\n",
      "2.0\n",
      "100\n",
      "0\n"
     ]
    }
   ],
   "source": [
    "num1=10\n",
    "num2=5\n",
    "\n",
    "#addition\n",
    "result1= num1+num2\n",
    "print(result1)\n",
    "\n",
    "#subtraction\n",
    "result2= num1-num2\n",
    "print(result2)\n",
    "\n",
    "#multiplication\n",
    "result3= num1*num2\n",
    "print(result3)\n",
    "\n",
    "#division\n",
    "result4= num1/num2\n",
    "print(result4)\n",
    "\n",
    "#exponent\n",
    "result5=num1**2\n",
    "print(result5)\n",
    "\n",
    "#modulus\n",
    "result6=num1%num2\n",
    "print(result6)\n"
   ]
  },
  {
   "cell_type": "code",
   "execution_count": 44,
   "metadata": {},
   "outputs": [
    {
     "name": "stdout",
     "output_type": "stream",
     "text": [
      "9.0\n"
     ]
    }
   ],
   "source": [
    "result= 10*5/(2+3)-1\n",
    "\n",
    "#BODMAS\n",
    "print(result)"
   ]
  },
  {
   "cell_type": "code",
   "execution_count": 45,
   "metadata": {},
   "outputs": [
    {
     "name": "stdout",
     "output_type": "stream",
     "text": [
      "10\n"
     ]
    }
   ],
   "source": [
    "#casting\n",
    "total=10.0\n",
    "total=int(total)\n",
    "print(total)"
   ]
  },
  {
   "cell_type": "code",
   "execution_count": 4,
   "metadata": {},
   "outputs": [
    {
     "ename": "TypeError",
     "evalue": "can only concatenate str (not \"int\") to str",
     "output_type": "error",
     "traceback": [
      "\u001b[0;31m---------------------------------------------------------------------------\u001b[0m",
      "\u001b[0;31mTypeError\u001b[0m                                 Traceback (most recent call last)",
      "Cell \u001b[0;32mIn[4], line 2\u001b[0m\n\u001b[1;32m      1\u001b[0m marks\u001b[38;5;241m=\u001b[39m\u001b[38;5;124m\"\u001b[39m\u001b[38;5;124m45\u001b[39m\u001b[38;5;124m\"\u001b[39m\n\u001b[0;32m----> 2\u001b[0m \u001b[38;5;28mprint\u001b[39m(\u001b[43mmarks\u001b[49m\u001b[38;5;241;43m+\u001b[39;49m\u001b[38;5;241;43m1\u001b[39;49m)\n\u001b[1;32m      3\u001b[0m \u001b[38;5;66;03m# marks=int(marks)\u001b[39;00m\n\u001b[1;32m      4\u001b[0m \u001b[38;5;66;03m# print(marks+1)\u001b[39;00m\n",
      "\u001b[0;31mTypeError\u001b[0m: can only concatenate str (not \"int\") to str"
     ]
    }
   ],
   "source": [
    "marks=\"45\"\n",
    "print(marks+1)\n",
    "# marks=int(marks)\n",
    "# print(marks+1)"
   ]
  },
  {
   "cell_type": "code",
   "execution_count": null,
   "metadata": {},
   "outputs": [],
   "source": []
  },
  {
   "cell_type": "code",
   "execution_count": 50,
   "metadata": {},
   "outputs": [
    {
     "name": "stdout",
     "output_type": "stream",
     "text": [
      "100.5\n",
      "10.00000000001\n"
     ]
    }
   ],
   "source": [
    "x=0000000000100.500000000000\n",
    "print(x)\n",
    "\n",
    "\n",
    "y=10.00000000001\n",
    "print(y)"
   ]
  }
 ],
 "metadata": {
  "kernelspec": {
   "display_name": "Python 3",
   "language": "python",
   "name": "python3"
  },
  "language_info": {
   "codemirror_mode": {
    "name": "ipython",
    "version": 3
   },
   "file_extension": ".py",
   "mimetype": "text/x-python",
   "name": "python",
   "nbconvert_exporter": "python",
   "pygments_lexer": "ipython3",
   "version": "3.10.2"
  }
 },
 "nbformat": 4,
 "nbformat_minor": 2
}
